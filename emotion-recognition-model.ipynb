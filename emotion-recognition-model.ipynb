{
 "cells": [
  {
   "cell_type": "code",
   "execution_count": 10,
   "metadata": {
    "execution": {
     "iopub.execute_input": "2021-11-20T13:59:01.822361Z",
     "iopub.status.busy": "2021-11-20T13:59:01.821805Z",
     "iopub.status.idle": "2021-11-20T13:59:01.831681Z",
     "shell.execute_reply": "2021-11-20T13:59:01.830209Z",
     "shell.execute_reply.started": "2021-11-20T13:59:01.822314Z"
    }
   },
   "outputs": [],
   "source": [
    "import tensorflow as tf\n",
    "import pandas as pd\n",
    "import numpy as np\n",
    "import matplotlib.pyplot as plt\n",
    "import PIL\n",
    "import os\n",
    "import cv2\n",
    "import pathlib\n",
    "import glob\n",
    "import re\n",
    "import sklearn\n",
    "\n",
    "from tensorflow import keras\n",
    "from tensorflow.keras import layers, datasets , models\n",
    "from tensorflow.keras.models import Sequential\n",
    "\n",
    "from PIL import Image\n",
    "\n",
    "from sklearn.model_selection import train_test_split"
   ]
  },
  {
   "cell_type": "code",
   "execution_count": 11,
   "metadata": {
    "execution": {
     "iopub.execute_input": "2021-11-20T13:59:01.835412Z",
     "iopub.status.busy": "2021-11-20T13:59:01.834124Z",
     "iopub.status.idle": "2021-11-20T13:59:01.843441Z",
     "shell.execute_reply": "2021-11-20T13:59:01.842481Z",
     "shell.execute_reply.started": "2021-11-20T13:59:01.835365Z"
    }
   },
   "outputs": [],
   "source": [
    "image_labels = {\n",
    "    'angry' : 0,\n",
    "    'disgust' : 1,\n",
    "    'fear' : 2,\n",
    "    'happy' : 3,\n",
    "    'neutral' : 4,\n",
    "    'sad' : 5,\n",
    "    'surprise' : 6\n",
    "}"
   ]
  },
  {
   "cell_type": "code",
   "execution_count": 12,
   "metadata": {
    "execution": {
     "iopub.execute_input": "2021-11-20T13:59:01.844929Z",
     "iopub.status.busy": "2021-11-20T13:59:01.844672Z",
     "iopub.status.idle": "2021-11-20T13:59:01.970311Z",
     "shell.execute_reply": "2021-11-20T13:59:01.969469Z",
     "shell.execute_reply.started": "2021-11-20T13:59:01.844894Z"
    }
   },
   "outputs": [],
   "source": [
    "train_data = {}\n",
    "\n",
    "for i in image_labels:\n",
    "    train_data[i] = glob.glob('../input/face-dataset/images/images/train/' + i + '/*.jpg')"
   ]
  },
  {
   "cell_type": "code",
   "execution_count": 13,
   "metadata": {
    "execution": {
     "iopub.execute_input": "2021-11-20T13:59:01.973314Z",
     "iopub.status.busy": "2021-11-20T13:59:01.972992Z",
     "iopub.status.idle": "2021-11-20T13:59:01.980111Z",
     "shell.execute_reply": "2021-11-20T13:59:01.978953Z",
     "shell.execute_reply.started": "2021-11-20T13:59:01.973270Z"
    }
   },
   "outputs": [
    {
     "data": {
      "text/plain": [
       "['../input/face-dataset/images/images/train/surprise/30778.jpg',\n",
       " '../input/face-dataset/images/images/train/surprise/22706.jpg',\n",
       " '../input/face-dataset/images/images/train/surprise/20513.jpg',\n",
       " '../input/face-dataset/images/images/train/surprise/27582.jpg',\n",
       " '../input/face-dataset/images/images/train/surprise/33678.jpg']"
      ]
     },
     "execution_count": 13,
     "metadata": {},
     "output_type": "execute_result"
    }
   ],
   "source": [
    "train_data['surprise'][:5]"
   ]
  },
  {
   "cell_type": "code",
   "execution_count": 14,
   "metadata": {
    "execution": {
     "iopub.execute_input": "2021-11-20T13:59:01.982654Z",
     "iopub.status.busy": "2021-11-20T13:59:01.982210Z",
     "iopub.status.idle": "2021-11-20T13:59:02.023897Z",
     "shell.execute_reply": "2021-11-20T13:59:02.023030Z",
     "shell.execute_reply.started": "2021-11-20T13:59:01.982608Z"
    }
   },
   "outputs": [],
   "source": [
    "test_data = {}\n",
    "\n",
    "for i in image_labels:\n",
    "    test_data[i] = glob.glob('../input/face-dataset/images/images/validation/' + i + '/*.jpg')"
   ]
  },
  {
   "cell_type": "code",
   "execution_count": 15,
   "metadata": {
    "execution": {
     "iopub.execute_input": "2021-11-20T13:59:02.026106Z",
     "iopub.status.busy": "2021-11-20T13:59:02.025741Z",
     "iopub.status.idle": "2021-11-20T13:59:02.035411Z",
     "shell.execute_reply": "2021-11-20T13:59:02.034261Z",
     "shell.execute_reply.started": "2021-11-20T13:59:02.026063Z"
    }
   },
   "outputs": [
    {
     "data": {
      "text/plain": [
       "['../input/face-dataset/images/images/validation/surprise/13288.jpg',\n",
       " '../input/face-dataset/images/images/validation/surprise/24201.jpg',\n",
       " '../input/face-dataset/images/images/validation/surprise/26556.jpg',\n",
       " '../input/face-dataset/images/images/validation/surprise/26076.jpg',\n",
       " '../input/face-dataset/images/images/validation/surprise/27577.jpg']"
      ]
     },
     "execution_count": 15,
     "metadata": {},
     "output_type": "execute_result"
    }
   ],
   "source": [
    "test_data['surprise'][:5]"
   ]
  },
  {
   "cell_type": "code",
   "execution_count": 16,
   "metadata": {
    "execution": {
     "iopub.execute_input": "2021-11-20T13:59:02.038512Z",
     "iopub.status.busy": "2021-11-20T13:59:02.037560Z",
     "iopub.status.idle": "2021-11-20T14:00:11.113439Z",
     "shell.execute_reply": "2021-11-20T14:00:11.112387Z",
     "shell.execute_reply.started": "2021-11-20T13:59:02.038308Z"
    }
   },
   "outputs": [],
   "source": [
    "image_size = 48\n",
    "\n",
    "x_train = []\n",
    "y_train = []\n",
    "\n",
    "for label,images in train_data.items():\n",
    "    for i in images:\n",
    "        x_train.append(np.array(Image.open(i)).reshape(image_size,image_size,-1))\n",
    "        y_train.append(image_labels[label])"
   ]
  },
  {
   "cell_type": "code",
   "execution_count": 17,
   "metadata": {
    "execution": {
     "iopub.execute_input": "2021-11-20T14:00:11.115646Z",
     "iopub.status.busy": "2021-11-20T14:00:11.115277Z",
     "iopub.status.idle": "2021-11-20T14:00:30.568903Z",
     "shell.execute_reply": "2021-11-20T14:00:30.567919Z",
     "shell.execute_reply.started": "2021-11-20T14:00:11.115600Z"
    }
   },
   "outputs": [],
   "source": [
    "x_test = []\n",
    "y_test = []\n",
    "\n",
    "for label,images in test_data.items():\n",
    "    for i in images:\n",
    "        x_test.append(np.array(Image.open(i)).reshape(image_size,image_size,-1))\n",
    "        y_test.append(image_labels[label])"
   ]
  },
  {
   "cell_type": "code",
   "execution_count": 18,
   "metadata": {
    "execution": {
     "iopub.execute_input": "2021-11-20T14:00:30.571099Z",
     "iopub.status.busy": "2021-11-20T14:00:30.570749Z",
     "iopub.status.idle": "2021-11-20T14:00:30.661401Z",
     "shell.execute_reply": "2021-11-20T14:00:30.660416Z",
     "shell.execute_reply.started": "2021-11-20T14:00:30.571054Z"
    }
   },
   "outputs": [],
   "source": [
    "x_train = np.array(x_train)\n",
    "y_train = np.array(y_train)\n",
    "\n",
    "x_test = np.array(x_test)\n",
    "y_test = np.array(y_test)"
   ]
  },
  {
   "cell_type": "code",
   "execution_count": 19,
   "metadata": {
    "execution": {
     "iopub.execute_input": "2021-11-20T14:00:30.665985Z",
     "iopub.status.busy": "2021-11-20T14:00:30.665518Z",
     "iopub.status.idle": "2021-11-20T14:00:30.979307Z",
     "shell.execute_reply": "2021-11-20T14:00:30.978346Z",
     "shell.execute_reply.started": "2021-11-20T14:00:30.665938Z"
    }
   },
   "outputs": [],
   "source": [
    "x_train = x_train/255\n",
    "x_test = x_test/255"
   ]
  },
  {
   "cell_type": "code",
   "execution_count": 20,
   "metadata": {
    "execution": {
     "iopub.execute_input": "2021-11-20T14:00:30.981520Z",
     "iopub.status.busy": "2021-11-20T14:00:30.980704Z",
     "iopub.status.idle": "2021-11-20T14:00:30.989706Z",
     "shell.execute_reply": "2021-11-20T14:00:30.988554Z",
     "shell.execute_reply.started": "2021-11-20T14:00:30.981475Z"
    }
   },
   "outputs": [
    {
     "data": {
      "text/plain": [
       "(28821, 48, 48, 1)"
      ]
     },
     "execution_count": 20,
     "metadata": {},
     "output_type": "execute_result"
    }
   ],
   "source": [
    "x_train.shape"
   ]
  },
  {
   "cell_type": "code",
   "execution_count": 21,
   "metadata": {
    "execution": {
     "iopub.execute_input": "2021-11-20T14:00:30.991606Z",
     "iopub.status.busy": "2021-11-20T14:00:30.991269Z",
     "iopub.status.idle": "2021-11-20T14:00:33.910404Z",
     "shell.execute_reply": "2021-11-20T14:00:33.909296Z",
     "shell.execute_reply.started": "2021-11-20T14:00:30.991554Z"
    }
   },
   "outputs": [
    {
     "name": "stderr",
     "output_type": "stream",
     "text": [
      "2021-11-20 14:00:31.079533: I tensorflow/stream_executor/cuda/cuda_gpu_executor.cc:937] successful NUMA node read from SysFS had negative value (-1), but there must be at least one NUMA node, so returning NUMA node zero\n",
      "2021-11-20 14:00:31.194770: I tensorflow/stream_executor/cuda/cuda_gpu_executor.cc:937] successful NUMA node read from SysFS had negative value (-1), but there must be at least one NUMA node, so returning NUMA node zero\n",
      "2021-11-20 14:00:31.195842: I tensorflow/stream_executor/cuda/cuda_gpu_executor.cc:937] successful NUMA node read from SysFS had negative value (-1), but there must be at least one NUMA node, so returning NUMA node zero\n",
      "2021-11-20 14:00:31.197560: I tensorflow/core/platform/cpu_feature_guard.cc:142] This TensorFlow binary is optimized with oneAPI Deep Neural Network Library (oneDNN) to use the following CPU instructions in performance-critical operations:  AVX2 FMA\n",
      "To enable them in other operations, rebuild TensorFlow with the appropriate compiler flags.\n",
      "2021-11-20 14:00:31.198739: I tensorflow/stream_executor/cuda/cuda_gpu_executor.cc:937] successful NUMA node read from SysFS had negative value (-1), but there must be at least one NUMA node, so returning NUMA node zero\n",
      "2021-11-20 14:00:31.199951: I tensorflow/stream_executor/cuda/cuda_gpu_executor.cc:937] successful NUMA node read from SysFS had negative value (-1), but there must be at least one NUMA node, so returning NUMA node zero\n",
      "2021-11-20 14:00:31.201064: I tensorflow/stream_executor/cuda/cuda_gpu_executor.cc:937] successful NUMA node read from SysFS had negative value (-1), but there must be at least one NUMA node, so returning NUMA node zero\n",
      "2021-11-20 14:00:33.373709: I tensorflow/stream_executor/cuda/cuda_gpu_executor.cc:937] successful NUMA node read from SysFS had negative value (-1), but there must be at least one NUMA node, so returning NUMA node zero\n",
      "2021-11-20 14:00:33.374926: I tensorflow/stream_executor/cuda/cuda_gpu_executor.cc:937] successful NUMA node read from SysFS had negative value (-1), but there must be at least one NUMA node, so returning NUMA node zero\n",
      "2021-11-20 14:00:33.375968: I tensorflow/stream_executor/cuda/cuda_gpu_executor.cc:937] successful NUMA node read from SysFS had negative value (-1), but there must be at least one NUMA node, so returning NUMA node zero\n",
      "2021-11-20 14:00:33.376940: I tensorflow/core/common_runtime/gpu/gpu_device.cc:1510] Created device /job:localhost/replica:0/task:0/device:GPU:0 with 15403 MB memory:  -> device: 0, name: Tesla P100-PCIE-16GB, pci bus id: 0000:00:04.0, compute capability: 6.0\n"
     ]
    }
   ],
   "source": [
    "data_augmentation = keras.Sequential(\n",
    "  [\n",
    "    layers.experimental.preprocessing.RandomFlip(\"horizontal\", \n",
    "                                                 input_shape=(48,48,1)),\n",
    "    layers.experimental.preprocessing.RandomRotation(0.1),\n",
    "    layers.experimental.preprocessing.RandomZoom(0.1),\n",
    "  ]\n",
    ")"
   ]
  },
  {
   "cell_type": "code",
   "execution_count": 22,
   "metadata": {
    "execution": {
     "iopub.execute_input": "2021-11-20T14:00:33.912752Z",
     "iopub.status.busy": "2021-11-20T14:00:33.912188Z",
     "iopub.status.idle": "2021-11-20T14:17:58.110550Z",
     "shell.execute_reply": "2021-11-20T14:17:58.108410Z",
     "shell.execute_reply.started": "2021-11-20T14:00:33.912704Z"
    }
   },
   "outputs": [
    {
     "name": "stderr",
     "output_type": "stream",
     "text": [
      "2021-11-20 14:00:34.847242: I tensorflow/compiler/mlir/mlir_graph_optimization_pass.cc:185] None of the MLIR Optimization Passes are enabled (registered 2)\n"
     ]
    },
    {
     "name": "stdout",
     "output_type": "stream",
     "text": [
      "Epoch 1/150\n"
     ]
    },
    {
     "name": "stderr",
     "output_type": "stream",
     "text": [
      "/opt/conda/lib/python3.7/site-packages/keras/backend.py:4907: UserWarning: \"`sparse_categorical_crossentropy` received `from_logits=True`, but the `output` argument was produced by a sigmoid or softmax activation and thus does not represent logits. Was this intended?\"\n",
      "  '\"`sparse_categorical_crossentropy` received `from_logits=True`, but '\n",
      "2021-11-20 14:00:37.113984: I tensorflow/stream_executor/cuda/cuda_dnn.cc:369] Loaded cuDNN version 8005\n"
     ]
    },
    {
     "name": "stdout",
     "output_type": "stream",
     "text": [
      "901/901 [==============================] - 15s 8ms/step - loss: 1.7770 - accuracy: 0.2598\n",
      "Epoch 2/150\n",
      "901/901 [==============================] - 7s 7ms/step - loss: 1.6454 - accuracy: 0.3481\n",
      "Epoch 3/150\n",
      "901/901 [==============================] - 7s 8ms/step - loss: 1.5228 - accuracy: 0.4107\n",
      "Epoch 4/150\n",
      "901/901 [==============================] - 7s 8ms/step - loss: 1.4555 - accuracy: 0.4371\n",
      "Epoch 5/150\n",
      "901/901 [==============================] - 7s 7ms/step - loss: 1.3992 - accuracy: 0.4602\n",
      "Epoch 6/150\n",
      "901/901 [==============================] - 8s 8ms/step - loss: 1.3629 - accuracy: 0.4765\n",
      "Epoch 7/150\n",
      "901/901 [==============================] - 7s 8ms/step - loss: 1.3353 - accuracy: 0.4896\n",
      "Epoch 8/150\n",
      "901/901 [==============================] - 7s 7ms/step - loss: 1.3108 - accuracy: 0.5007\n",
      "Epoch 9/150\n",
      "901/901 [==============================] - 7s 8ms/step - loss: 1.2921 - accuracy: 0.5050\n",
      "Epoch 10/150\n",
      "901/901 [==============================] - 7s 7ms/step - loss: 1.2776 - accuracy: 0.5100\n",
      "Epoch 11/150\n",
      "901/901 [==============================] - 7s 8ms/step - loss: 1.2676 - accuracy: 0.5167\n",
      "Epoch 12/150\n",
      "901/901 [==============================] - 7s 8ms/step - loss: 1.2547 - accuracy: 0.5238\n",
      "Epoch 13/150\n",
      "901/901 [==============================] - 7s 7ms/step - loss: 1.2377 - accuracy: 0.5334\n",
      "Epoch 14/150\n",
      "901/901 [==============================] - 7s 8ms/step - loss: 1.2327 - accuracy: 0.5309\n",
      "Epoch 15/150\n",
      "901/901 [==============================] - 7s 8ms/step - loss: 1.2258 - accuracy: 0.5329\n",
      "Epoch 16/150\n",
      "901/901 [==============================] - 7s 8ms/step - loss: 1.2148 - accuracy: 0.5402\n",
      "Epoch 17/150\n",
      "901/901 [==============================] - 7s 8ms/step - loss: 1.2042 - accuracy: 0.5444\n",
      "Epoch 18/150\n",
      "901/901 [==============================] - 7s 7ms/step - loss: 1.2010 - accuracy: 0.5405\n",
      "Epoch 19/150\n",
      "901/901 [==============================] - 7s 8ms/step - loss: 1.1952 - accuracy: 0.5465\n",
      "Epoch 20/150\n",
      "901/901 [==============================] - 7s 8ms/step - loss: 1.1843 - accuracy: 0.5494\n",
      "Epoch 21/150\n",
      "901/901 [==============================] - 7s 7ms/step - loss: 1.1804 - accuracy: 0.5485\n",
      "Epoch 22/150\n",
      "901/901 [==============================] - 7s 8ms/step - loss: 1.1708 - accuracy: 0.5528\n",
      "Epoch 23/150\n",
      "901/901 [==============================] - 7s 8ms/step - loss: 1.1662 - accuracy: 0.5554\n",
      "Epoch 24/150\n",
      "901/901 [==============================] - 7s 7ms/step - loss: 1.1607 - accuracy: 0.5570\n",
      "Epoch 25/150\n",
      "901/901 [==============================] - 7s 8ms/step - loss: 1.1539 - accuracy: 0.5640\n",
      "Epoch 26/150\n",
      "901/901 [==============================] - 7s 7ms/step - loss: 1.1486 - accuracy: 0.5665\n",
      "Epoch 27/150\n",
      "901/901 [==============================] - 7s 8ms/step - loss: 1.1474 - accuracy: 0.5664\n",
      "Epoch 28/150\n",
      "901/901 [==============================] - 7s 8ms/step - loss: 1.1398 - accuracy: 0.5682\n",
      "Epoch 29/150\n",
      "901/901 [==============================] - 6s 7ms/step - loss: 1.1372 - accuracy: 0.5639\n",
      "Epoch 30/150\n",
      "901/901 [==============================] - 7s 8ms/step - loss: 1.1314 - accuracy: 0.5733\n",
      "Epoch 31/150\n",
      "901/901 [==============================] - 7s 7ms/step - loss: 1.1353 - accuracy: 0.5713\n",
      "Epoch 32/150\n",
      "901/901 [==============================] - 7s 7ms/step - loss: 1.1242 - accuracy: 0.5727\n",
      "Epoch 33/150\n",
      "901/901 [==============================] - 7s 8ms/step - loss: 1.1227 - accuracy: 0.5741\n",
      "Epoch 34/150\n",
      "901/901 [==============================] - 7s 7ms/step - loss: 1.1190 - accuracy: 0.5742\n",
      "Epoch 35/150\n",
      "901/901 [==============================] - 7s 8ms/step - loss: 1.1221 - accuracy: 0.5770\n",
      "Epoch 36/150\n",
      "901/901 [==============================] - 7s 8ms/step - loss: 1.1111 - accuracy: 0.5801\n",
      "Epoch 37/150\n",
      "901/901 [==============================] - 6s 7ms/step - loss: 1.1072 - accuracy: 0.5785\n",
      "Epoch 38/150\n",
      "901/901 [==============================] - 7s 8ms/step - loss: 1.1085 - accuracy: 0.5784\n",
      "Epoch 39/150\n",
      "901/901 [==============================] - 7s 7ms/step - loss: 1.1060 - accuracy: 0.5790\n",
      "Epoch 40/150\n",
      "901/901 [==============================] - 7s 8ms/step - loss: 1.1038 - accuracy: 0.5814\n",
      "Epoch 41/150\n",
      "901/901 [==============================] - 7s 8ms/step - loss: 1.0959 - accuracy: 0.5819\n",
      "Epoch 42/150\n",
      "901/901 [==============================] - 7s 7ms/step - loss: 1.0978 - accuracy: 0.5867\n",
      "Epoch 43/150\n",
      "901/901 [==============================] - 7s 8ms/step - loss: 1.0904 - accuracy: 0.5839\n",
      "Epoch 44/150\n",
      "901/901 [==============================] - 7s 8ms/step - loss: 1.0926 - accuracy: 0.5876\n",
      "Epoch 45/150\n",
      "901/901 [==============================] - 7s 8ms/step - loss: 1.0890 - accuracy: 0.5882\n",
      "Epoch 46/150\n",
      "901/901 [==============================] - 7s 8ms/step - loss: 1.0884 - accuracy: 0.5845\n",
      "Epoch 47/150\n",
      "901/901 [==============================] - 6s 7ms/step - loss: 1.0787 - accuracy: 0.5917\n",
      "Epoch 48/150\n",
      "901/901 [==============================] - 7s 8ms/step - loss: 1.0760 - accuracy: 0.5926\n",
      "Epoch 49/150\n",
      "901/901 [==============================] - 7s 7ms/step - loss: 1.0805 - accuracy: 0.5903\n",
      "Epoch 50/150\n",
      "901/901 [==============================] - 7s 8ms/step - loss: 1.0819 - accuracy: 0.5894\n",
      "Epoch 51/150\n",
      "901/901 [==============================] - 7s 7ms/step - loss: 1.0742 - accuracy: 0.5924\n",
      "Epoch 52/150\n",
      "901/901 [==============================] - 7s 7ms/step - loss: 1.0723 - accuracy: 0.5921\n",
      "Epoch 53/150\n",
      "901/901 [==============================] - 6s 7ms/step - loss: 1.0726 - accuracy: 0.5920\n",
      "Epoch 54/150\n",
      "901/901 [==============================] - 7s 8ms/step - loss: 1.0684 - accuracy: 0.5953\n",
      "Epoch 55/150\n",
      "901/901 [==============================] - 7s 8ms/step - loss: 1.0683 - accuracy: 0.5951\n",
      "Epoch 56/150\n",
      "901/901 [==============================] - 7s 8ms/step - loss: 1.0672 - accuracy: 0.5939\n",
      "Epoch 57/150\n",
      "901/901 [==============================] - 7s 8ms/step - loss: 1.0591 - accuracy: 0.5953\n",
      "Epoch 58/150\n",
      "901/901 [==============================] - 6s 7ms/step - loss: 1.0637 - accuracy: 0.5972\n",
      "Epoch 59/150\n",
      "901/901 [==============================] - 7s 7ms/step - loss: 1.0620 - accuracy: 0.5975\n",
      "Epoch 60/150\n",
      "901/901 [==============================] - 7s 8ms/step - loss: 1.0546 - accuracy: 0.5979\n",
      "Epoch 61/150\n",
      "901/901 [==============================] - 7s 8ms/step - loss: 1.0535 - accuracy: 0.6012\n",
      "Epoch 62/150\n",
      "901/901 [==============================] - 7s 7ms/step - loss: 1.0523 - accuracy: 0.6022\n",
      "Epoch 63/150\n",
      "901/901 [==============================] - 6s 7ms/step - loss: 1.0471 - accuracy: 0.5986\n",
      "Epoch 64/150\n",
      "901/901 [==============================] - 7s 8ms/step - loss: 1.0515 - accuracy: 0.6017\n",
      "Epoch 65/150\n",
      "901/901 [==============================] - 7s 8ms/step - loss: 1.0426 - accuracy: 0.6070\n",
      "Epoch 66/150\n",
      "901/901 [==============================] - 6s 7ms/step - loss: 1.0441 - accuracy: 0.6039\n",
      "Epoch 67/150\n",
      "901/901 [==============================] - 7s 8ms/step - loss: 1.0483 - accuracy: 0.6036\n",
      "Epoch 68/150\n",
      "901/901 [==============================] - 6s 7ms/step - loss: 1.0446 - accuracy: 0.6041\n",
      "Epoch 69/150\n",
      "901/901 [==============================] - 7s 8ms/step - loss: 1.0382 - accuracy: 0.6030\n",
      "Epoch 70/150\n",
      "901/901 [==============================] - 7s 8ms/step - loss: 1.0326 - accuracy: 0.6079\n",
      "Epoch 71/150\n",
      "901/901 [==============================] - 6s 7ms/step - loss: 1.0367 - accuracy: 0.6097\n",
      "Epoch 72/150\n",
      "901/901 [==============================] - 7s 8ms/step - loss: 1.0345 - accuracy: 0.6064\n",
      "Epoch 73/150\n",
      "901/901 [==============================] - 6s 7ms/step - loss: 1.0297 - accuracy: 0.6096\n",
      "Epoch 74/150\n",
      "901/901 [==============================] - 7s 8ms/step - loss: 1.0278 - accuracy: 0.6068\n",
      "Epoch 75/150\n",
      "901/901 [==============================] - 7s 8ms/step - loss: 1.0381 - accuracy: 0.6082\n",
      "Epoch 76/150\n",
      "901/901 [==============================] - 6s 7ms/step - loss: 1.0250 - accuracy: 0.6137\n",
      "Epoch 77/150\n",
      "901/901 [==============================] - 7s 8ms/step - loss: 1.0256 - accuracy: 0.6114\n",
      "Epoch 78/150\n",
      "901/901 [==============================] - 7s 7ms/step - loss: 1.0220 - accuracy: 0.6112\n",
      "Epoch 79/150\n",
      "901/901 [==============================] - 7s 8ms/step - loss: 1.0286 - accuracy: 0.6095\n",
      "Epoch 80/150\n",
      "901/901 [==============================] - 7s 7ms/step - loss: 1.0279 - accuracy: 0.6088\n",
      "Epoch 81/150\n",
      "901/901 [==============================] - 6s 7ms/step - loss: 1.0203 - accuracy: 0.6144\n",
      "Epoch 82/150\n",
      "901/901 [==============================] - 7s 7ms/step - loss: 1.0249 - accuracy: 0.6086\n",
      "Epoch 83/150\n",
      "901/901 [==============================] - 7s 7ms/step - loss: 1.0215 - accuracy: 0.6133\n",
      "Epoch 84/150\n",
      "901/901 [==============================] - 7s 8ms/step - loss: 1.0196 - accuracy: 0.6152\n",
      "Epoch 85/150\n",
      "901/901 [==============================] - 7s 7ms/step - loss: 1.0180 - accuracy: 0.6183\n",
      "Epoch 86/150\n",
      "901/901 [==============================] - 6s 7ms/step - loss: 1.0127 - accuracy: 0.6161\n",
      "Epoch 87/150\n",
      "901/901 [==============================] - 7s 7ms/step - loss: 1.0169 - accuracy: 0.6131\n",
      "Epoch 88/150\n",
      "901/901 [==============================] - 7s 7ms/step - loss: 1.0130 - accuracy: 0.6167\n",
      "Epoch 89/150\n",
      "901/901 [==============================] - 7s 8ms/step - loss: 1.0119 - accuracy: 0.6169\n",
      "Epoch 90/150\n",
      "901/901 [==============================] - 7s 7ms/step - loss: 1.0120 - accuracy: 0.6140\n",
      "Epoch 91/150\n",
      "901/901 [==============================] - 7s 7ms/step - loss: 1.0107 - accuracy: 0.6128\n",
      "Epoch 92/150\n",
      "901/901 [==============================] - 6s 7ms/step - loss: 0.9984 - accuracy: 0.6205\n",
      "Epoch 93/150\n",
      "901/901 [==============================] - 7s 8ms/step - loss: 1.0041 - accuracy: 0.6184\n",
      "Epoch 94/150\n",
      "901/901 [==============================] - 7s 8ms/step - loss: 0.9986 - accuracy: 0.6193\n",
      "Epoch 95/150\n",
      "901/901 [==============================] - 7s 8ms/step - loss: 1.0062 - accuracy: 0.6166\n",
      "Epoch 96/150\n",
      "901/901 [==============================] - 7s 8ms/step - loss: 1.0050 - accuracy: 0.6170\n",
      "Epoch 97/150\n",
      "901/901 [==============================] - 7s 7ms/step - loss: 0.9988 - accuracy: 0.6214\n",
      "Epoch 98/150\n",
      "901/901 [==============================] - 7s 8ms/step - loss: 1.0021 - accuracy: 0.6255\n",
      "Epoch 99/150\n",
      "901/901 [==============================] - 7s 8ms/step - loss: 0.9931 - accuracy: 0.6230\n",
      "Epoch 100/150\n",
      "901/901 [==============================] - 7s 7ms/step - loss: 0.9960 - accuracy: 0.6221\n",
      "Epoch 101/150\n",
      "901/901 [==============================] - 7s 7ms/step - loss: 0.9966 - accuracy: 0.6207\n",
      "Epoch 102/150\n",
      "901/901 [==============================] - 6s 7ms/step - loss: 0.9923 - accuracy: 0.6236\n",
      "Epoch 103/150\n",
      "901/901 [==============================] - 7s 8ms/step - loss: 0.9995 - accuracy: 0.6218\n",
      "Epoch 104/150\n",
      "901/901 [==============================] - 7s 8ms/step - loss: 0.9972 - accuracy: 0.6228\n",
      "Epoch 105/150\n",
      "901/901 [==============================] - 6s 7ms/step - loss: 0.9906 - accuracy: 0.6272\n",
      "Epoch 106/150\n",
      "901/901 [==============================] - 7s 8ms/step - loss: 0.9909 - accuracy: 0.6245\n",
      "Epoch 107/150\n",
      "901/901 [==============================] - 7s 7ms/step - loss: 0.9885 - accuracy: 0.6277\n",
      "Epoch 108/150\n",
      "901/901 [==============================] - 7s 8ms/step - loss: 0.9948 - accuracy: 0.6217\n",
      "Epoch 109/150\n",
      "901/901 [==============================] - 7s 8ms/step - loss: 0.9882 - accuracy: 0.6205\n",
      "Epoch 110/150\n",
      "901/901 [==============================] - 6s 7ms/step - loss: 0.9892 - accuracy: 0.6236\n",
      "Epoch 111/150\n",
      "901/901 [==============================] - 7s 8ms/step - loss: 0.9900 - accuracy: 0.6243\n",
      "Epoch 112/150\n",
      "901/901 [==============================] - 7s 7ms/step - loss: 0.9848 - accuracy: 0.6283\n",
      "Epoch 113/150\n",
      "901/901 [==============================] - 7s 8ms/step - loss: 0.9915 - accuracy: 0.6248\n",
      "Epoch 114/150\n",
      "901/901 [==============================] - 7s 8ms/step - loss: 0.9851 - accuracy: 0.6246\n",
      "Epoch 115/150\n",
      "901/901 [==============================] - 7s 7ms/step - loss: 0.9809 - accuracy: 0.6259\n",
      "Epoch 116/150\n",
      "901/901 [==============================] - 7s 8ms/step - loss: 0.9841 - accuracy: 0.6252\n",
      "Epoch 117/150\n",
      "901/901 [==============================] - 7s 8ms/step - loss: 0.9767 - accuracy: 0.6277\n",
      "Epoch 118/150\n",
      "901/901 [==============================] - 7s 8ms/step - loss: 0.9815 - accuracy: 0.6286\n",
      "Epoch 119/150\n",
      "901/901 [==============================] - 7s 7ms/step - loss: 0.9762 - accuracy: 0.6302\n",
      "Epoch 120/150\n",
      "901/901 [==============================] - 6s 7ms/step - loss: 0.9736 - accuracy: 0.6310\n",
      "Epoch 121/150\n",
      "901/901 [==============================] - 7s 7ms/step - loss: 0.9749 - accuracy: 0.6288\n",
      "Epoch 122/150\n",
      "901/901 [==============================] - 7s 8ms/step - loss: 0.9829 - accuracy: 0.6214\n",
      "Epoch 123/150\n",
      "901/901 [==============================] - 7s 8ms/step - loss: 0.9676 - accuracy: 0.6324\n",
      "Epoch 124/150\n",
      "901/901 [==============================] - 7s 7ms/step - loss: 0.9765 - accuracy: 0.6253\n",
      "Epoch 125/150\n",
      "901/901 [==============================] - 7s 8ms/step - loss: 0.9755 - accuracy: 0.6289\n",
      "Epoch 126/150\n",
      "901/901 [==============================] - 6s 7ms/step - loss: 0.9783 - accuracy: 0.6286\n",
      "Epoch 127/150\n",
      "901/901 [==============================] - 7s 8ms/step - loss: 0.9744 - accuracy: 0.6319\n",
      "Epoch 128/150\n",
      "901/901 [==============================] - 7s 8ms/step - loss: 0.9649 - accuracy: 0.6353\n",
      "Epoch 129/150\n",
      "901/901 [==============================] - 7s 8ms/step - loss: 0.9716 - accuracy: 0.6314\n",
      "Epoch 130/150\n",
      "901/901 [==============================] - 7s 8ms/step - loss: 0.9736 - accuracy: 0.6288\n",
      "Epoch 131/150\n",
      "901/901 [==============================] - 6s 7ms/step - loss: 0.9656 - accuracy: 0.6313\n",
      "Epoch 132/150\n",
      "901/901 [==============================] - 7s 7ms/step - loss: 0.9715 - accuracy: 0.6305\n",
      "Epoch 133/150\n",
      "901/901 [==============================] - 7s 8ms/step - loss: 0.9677 - accuracy: 0.6332\n",
      "Epoch 134/150\n",
      "901/901 [==============================] - 7s 7ms/step - loss: 0.9662 - accuracy: 0.6342\n",
      "Epoch 135/150\n",
      "901/901 [==============================] - 7s 8ms/step - loss: 0.9733 - accuracy: 0.6298\n",
      "Epoch 136/150\n",
      "901/901 [==============================] - 7s 7ms/step - loss: 0.9603 - accuracy: 0.6343\n",
      "Epoch 137/150\n",
      "901/901 [==============================] - 7s 7ms/step - loss: 0.9625 - accuracy: 0.6355\n",
      "Epoch 138/150\n",
      "901/901 [==============================] - 7s 8ms/step - loss: 0.9627 - accuracy: 0.6359\n",
      "Epoch 139/150\n",
      "901/901 [==============================] - 7s 7ms/step - loss: 0.9585 - accuracy: 0.6355\n",
      "Epoch 140/150\n",
      "901/901 [==============================] - 7s 8ms/step - loss: 0.9630 - accuracy: 0.6348\n",
      "Epoch 141/150\n",
      "901/901 [==============================] - 7s 7ms/step - loss: 0.9572 - accuracy: 0.6368\n",
      "Epoch 142/150\n",
      "901/901 [==============================] - 7s 8ms/step - loss: 0.9586 - accuracy: 0.6374\n",
      "Epoch 143/150\n",
      "901/901 [==============================] - 8s 8ms/step - loss: 0.9551 - accuracy: 0.6384\n",
      "Epoch 144/150\n",
      "901/901 [==============================] - 6s 7ms/step - loss: 0.9619 - accuracy: 0.6376\n",
      "Epoch 145/150\n",
      "901/901 [==============================] - 7s 7ms/step - loss: 0.9577 - accuracy: 0.6346\n",
      "Epoch 146/150\n",
      "901/901 [==============================] - 6s 7ms/step - loss: 0.9585 - accuracy: 0.6326\n",
      "Epoch 147/150\n",
      "901/901 [==============================] - 7s 8ms/step - loss: 0.9520 - accuracy: 0.6374\n",
      "Epoch 148/150\n",
      "901/901 [==============================] - 7s 8ms/step - loss: 0.9563 - accuracy: 0.6336\n",
      "Epoch 149/150\n",
      "901/901 [==============================] - 6s 7ms/step - loss: 0.9530 - accuracy: 0.6342\n",
      "Epoch 150/150\n",
      "901/901 [==============================] - 7s 7ms/step - loss: 0.9511 - accuracy: 0.6371\n"
     ]
    },
    {
     "data": {
      "text/plain": [
       "<keras.callbacks.History at 0x7f19fa1062d0>"
      ]
     },
     "execution_count": 22,
     "metadata": {},
     "output_type": "execute_result"
    }
   ],
   "source": [
    "    model = Sequential([\n",
    "        data_augmentation,\n",
    "    #     cnn\n",
    "      layers.Conv2D(64,(3,3), activation='relu',padding = 'same', input_shape = (48,48,1)),\n",
    "      layers.MaxPooling2D(pool_size = (2,2)),\n",
    "\n",
    "      layers.Conv2D(128,(3,3), activation='relu',padding = 'same'),\n",
    "      layers.MaxPooling2D(pool_size = (2,2)),\n",
    "\n",
    "      layers.Conv2D(128,(3,3), activation='relu',padding = 'same'),\n",
    "      layers.MaxPooling2D(pool_size = (2,2)),\n",
    "\n",
    "#       layers.Conv2D(512,(3,3), activation='relu',padding = 'same'),\n",
    "#       layers.MaxPooling2D(pool_size = (2,2)),\n",
    "\n",
    "    #     dense\n",
    "      layers.Flatten(),\n",
    "      layers.Dense(256, activation='relu'),\n",
    "      layers.Dropout(0.3),\n",
    "#       layers.Dense(512, activation='relu'),\n",
    "#       layers.Dropout(0.5),\n",
    "      layers.Dense(7,activation='softmax')\n",
    "    ])\n",
    "\n",
    "\n",
    "    model.compile(optimizer='adam',\n",
    "                  loss=tf.keras.losses.SparseCategoricalCrossentropy(from_logits=True),\n",
    "                  metrics=['accuracy'])\n",
    "              \n",
    "model.fit(x_train,y_train, epochs=150) "
   ]
  },
  {
   "cell_type": "code",
   "execution_count": 23,
   "metadata": {
    "execution": {
     "iopub.execute_input": "2021-11-20T14:17:58.112937Z",
     "iopub.status.busy": "2021-11-20T14:17:58.112542Z",
     "iopub.status.idle": "2021-11-20T14:23:38.197221Z",
     "shell.execute_reply": "2021-11-20T14:23:38.196254Z",
     "shell.execute_reply.started": "2021-11-20T14:17:58.112889Z"
    }
   },
   "outputs": [
    {
     "name": "stdout",
     "output_type": "stream",
     "text": [
      "Epoch 1/50\n",
      "901/901 [==============================] - 7s 8ms/step - loss: 0.9552 - accuracy: 0.6355\n",
      "Epoch 2/50\n",
      "901/901 [==============================] - 7s 8ms/step - loss: 0.9472 - accuracy: 0.6383\n",
      "Epoch 3/50\n",
      "901/901 [==============================] - 6s 7ms/step - loss: 0.9515 - accuracy: 0.6392\n",
      "Epoch 4/50\n",
      "901/901 [==============================] - 7s 8ms/step - loss: 0.9466 - accuracy: 0.6406\n",
      "Epoch 5/50\n",
      "901/901 [==============================] - 7s 8ms/step - loss: 0.9443 - accuracy: 0.6414\n",
      "Epoch 6/50\n",
      "901/901 [==============================] - 7s 8ms/step - loss: 0.9449 - accuracy: 0.6389\n",
      "Epoch 7/50\n",
      "901/901 [==============================] - 7s 8ms/step - loss: 0.9508 - accuracy: 0.6390\n",
      "Epoch 8/50\n",
      "901/901 [==============================] - 7s 7ms/step - loss: 0.9462 - accuracy: 0.6378\n",
      "Epoch 9/50\n",
      "901/901 [==============================] - 7s 8ms/step - loss: 0.9432 - accuracy: 0.6434\n",
      "Epoch 10/50\n",
      "901/901 [==============================] - 7s 8ms/step - loss: 0.9517 - accuracy: 0.6398\n",
      "Epoch 11/50\n",
      "901/901 [==============================] - 7s 7ms/step - loss: 0.9413 - accuracy: 0.6445\n",
      "Epoch 12/50\n",
      "901/901 [==============================] - 7s 8ms/step - loss: 0.9390 - accuracy: 0.6428\n",
      "Epoch 13/50\n",
      "901/901 [==============================] - 6s 7ms/step - loss: 0.9407 - accuracy: 0.6441\n",
      "Epoch 14/50\n",
      "901/901 [==============================] - 7s 8ms/step - loss: 0.9414 - accuracy: 0.6408\n",
      "Epoch 15/50\n",
      "901/901 [==============================] - 7s 8ms/step - loss: 0.9396 - accuracy: 0.6423\n",
      "Epoch 16/50\n",
      "901/901 [==============================] - 7s 7ms/step - loss: 0.9441 - accuracy: 0.6452\n",
      "Epoch 17/50\n",
      "901/901 [==============================] - 7s 8ms/step - loss: 0.9416 - accuracy: 0.6415\n",
      "Epoch 18/50\n",
      "901/901 [==============================] - 6s 7ms/step - loss: 0.9395 - accuracy: 0.6448\n",
      "Epoch 19/50\n",
      "901/901 [==============================] - 7s 8ms/step - loss: 0.9264 - accuracy: 0.6483\n",
      "Epoch 20/50\n",
      "901/901 [==============================] - 7s 8ms/step - loss: 0.9357 - accuracy: 0.6419\n",
      "Epoch 21/50\n",
      "901/901 [==============================] - 7s 7ms/step - loss: 0.9336 - accuracy: 0.6455\n",
      "Epoch 22/50\n",
      "901/901 [==============================] - 7s 7ms/step - loss: 0.9409 - accuracy: 0.6405\n",
      "Epoch 23/50\n",
      "901/901 [==============================] - 7s 7ms/step - loss: 0.9390 - accuracy: 0.6432\n",
      "Epoch 24/50\n",
      "901/901 [==============================] - 7s 7ms/step - loss: 0.9328 - accuracy: 0.6473\n",
      "Epoch 25/50\n",
      "901/901 [==============================] - 7s 8ms/step - loss: 0.9346 - accuracy: 0.6476\n",
      "Epoch 26/50\n",
      "901/901 [==============================] - 6s 7ms/step - loss: 0.9401 - accuracy: 0.6394\n",
      "Epoch 27/50\n",
      "901/901 [==============================] - 7s 8ms/step - loss: 0.9349 - accuracy: 0.6455\n",
      "Epoch 28/50\n",
      "901/901 [==============================] - 7s 8ms/step - loss: 0.9259 - accuracy: 0.6496\n",
      "Epoch 29/50\n",
      "901/901 [==============================] - 7s 7ms/step - loss: 0.9360 - accuracy: 0.6477\n",
      "Epoch 30/50\n",
      "901/901 [==============================] - 7s 8ms/step - loss: 0.9361 - accuracy: 0.6427\n",
      "Epoch 31/50\n",
      "901/901 [==============================] - 6s 7ms/step - loss: 0.9291 - accuracy: 0.6475\n",
      "Epoch 32/50\n",
      "901/901 [==============================] - 7s 7ms/step - loss: 0.9214 - accuracy: 0.6491\n",
      "Epoch 33/50\n",
      "901/901 [==============================] - 7s 8ms/step - loss: 0.9250 - accuracy: 0.6486\n",
      "Epoch 34/50\n",
      "901/901 [==============================] - 7s 7ms/step - loss: 0.9267 - accuracy: 0.6488\n",
      "Epoch 35/50\n",
      "901/901 [==============================] - 7s 8ms/step - loss: 0.9269 - accuracy: 0.6479\n",
      "Epoch 36/50\n",
      "901/901 [==============================] - 7s 7ms/step - loss: 0.9274 - accuracy: 0.6490\n",
      "Epoch 37/50\n",
      "901/901 [==============================] - 6s 7ms/step - loss: 0.9278 - accuracy: 0.6488\n",
      "Epoch 38/50\n",
      "901/901 [==============================] - 7s 8ms/step - loss: 0.9252 - accuracy: 0.6496\n",
      "Epoch 39/50\n",
      "901/901 [==============================] - 7s 8ms/step - loss: 0.9231 - accuracy: 0.6475\n",
      "Epoch 40/50\n",
      "901/901 [==============================] - 7s 8ms/step - loss: 0.9312 - accuracy: 0.6479\n",
      "Epoch 41/50\n",
      "901/901 [==============================] - 7s 8ms/step - loss: 0.9259 - accuracy: 0.6449\n",
      "Epoch 42/50\n",
      "901/901 [==============================] - 6s 7ms/step - loss: 0.9246 - accuracy: 0.6470\n",
      "Epoch 43/50\n",
      "901/901 [==============================] - 7s 8ms/step - loss: 0.9210 - accuracy: 0.6498\n",
      "Epoch 44/50\n",
      "901/901 [==============================] - 7s 8ms/step - loss: 0.9267 - accuracy: 0.6491\n",
      "Epoch 45/50\n",
      "901/901 [==============================] - 7s 8ms/step - loss: 0.9233 - accuracy: 0.6487\n",
      "Epoch 46/50\n",
      "901/901 [==============================] - 7s 7ms/step - loss: 0.9172 - accuracy: 0.6513\n",
      "Epoch 47/50\n",
      "901/901 [==============================] - 6s 7ms/step - loss: 0.9266 - accuracy: 0.6494\n",
      "Epoch 48/50\n",
      "901/901 [==============================] - 7s 7ms/step - loss: 0.9130 - accuracy: 0.6561\n",
      "Epoch 49/50\n",
      "901/901 [==============================] - 7s 8ms/step - loss: 0.9211 - accuracy: 0.6496\n",
      "Epoch 50/50\n",
      "901/901 [==============================] - 6s 7ms/step - loss: 0.9152 - accuracy: 0.6505\n"
     ]
    },
    {
     "data": {
      "text/plain": [
       "<keras.callbacks.History at 0x7f19f60f1ed0>"
      ]
     },
     "execution_count": 23,
     "metadata": {},
     "output_type": "execute_result"
    }
   ],
   "source": [
    "model.fit(x_train,y_train, epochs=50) "
   ]
  },
  {
   "cell_type": "code",
   "execution_count": 24,
   "metadata": {
    "execution": {
     "iopub.execute_input": "2021-11-20T14:23:38.199474Z",
     "iopub.status.busy": "2021-11-20T14:23:38.199111Z",
     "iopub.status.idle": "2021-11-20T14:23:39.311894Z",
     "shell.execute_reply": "2021-11-20T14:23:39.310905Z",
     "shell.execute_reply.started": "2021-11-20T14:23:38.199410Z"
    }
   },
   "outputs": [
    {
     "name": "stdout",
     "output_type": "stream",
     "text": [
      "221/221 [==============================] - 1s 3ms/step - loss: 1.1866 - accuracy: 0.5952\n"
     ]
    },
    {
     "data": {
      "text/plain": [
       "[1.1865519285202026, 0.595244824886322]"
      ]
     },
     "execution_count": 24,
     "metadata": {},
     "output_type": "execute_result"
    }
   ],
   "source": [
    "model.evaluate(x_test,y_test)"
   ]
  },
  {
   "cell_type": "code",
   "execution_count": 1,
   "metadata": {
    "execution": {
     "iopub.execute_input": "2021-11-20T15:06:16.622970Z",
     "iopub.status.busy": "2021-11-20T15:06:16.622347Z",
     "iopub.status.idle": "2021-11-20T15:06:16.695193Z",
     "shell.execute_reply": "2021-11-20T15:06:16.694250Z",
     "shell.execute_reply.started": "2021-11-20T15:06:16.622877Z"
    }
   },
   "outputs": [
    {
     "ename": "NameError",
     "evalue": "name 'model' is not defined",
     "output_type": "error",
     "traceback": [
      "\u001b[0;31m---------------------------------------------------------------------------\u001b[0m",
      "\u001b[0;31mNameError\u001b[0m                                 Traceback (most recent call last)",
      "\u001b[0;32m/tmp/ipykernel_40/811638599.py\u001b[0m in \u001b[0;36m<module>\u001b[0;34m\u001b[0m\n\u001b[0;32m----> 1\u001b[0;31m \u001b[0mmodel\u001b[0m\u001b[0;34m.\u001b[0m\u001b[0msave\u001b[0m\u001b[0;34m(\u001b[0m\u001b[0;34m'expression_detection_model.h5'\u001b[0m\u001b[0;34m)\u001b[0m\u001b[0;34m\u001b[0m\u001b[0;34m\u001b[0m\u001b[0m\n\u001b[0m",
      "\u001b[0;31mNameError\u001b[0m: name 'model' is not defined"
     ]
    }
   ],
   "source": [
    "model.save('expression_detection_model.h5')"
   ]
  },
  {
   "cell_type": "code",
   "execution_count": 28,
   "metadata": {
    "execution": {
     "iopub.execute_input": "2021-11-20T14:33:03.945348Z",
     "iopub.status.busy": "2021-11-20T14:33:03.945046Z",
     "iopub.status.idle": "2021-11-20T14:33:03.981522Z",
     "shell.execute_reply": "2021-11-20T14:33:03.980596Z",
     "shell.execute_reply.started": "2021-11-20T14:33:03.945314Z"
    }
   },
   "outputs": [],
   "source": [
    "# # save model structure in jason file\n",
    "# model_json = model.to_json()\n",
    "# with open(\"emotion_model.json\", \"w\") as json_file:\n",
    "#     json_file.write(model_json)\n",
    "\n",
    "# # save trained model weight in .h5 file\n",
    "# model.save_weights('emotion_model.h5')"
   ]
  },
  {
   "cell_type": "code",
   "execution_count": 26,
   "metadata": {
    "execution": {
     "iopub.execute_input": "2021-11-20T14:23:39.393497Z",
     "iopub.status.busy": "2021-11-20T14:23:39.393117Z",
     "iopub.status.idle": "2021-11-20T14:23:39.400300Z",
     "shell.execute_reply": "2021-11-20T14:23:39.399119Z",
     "shell.execute_reply.started": "2021-11-20T14:23:39.393419Z"
    }
   },
   "outputs": [],
   "source": [
    "# import tensorflow_hub as hub\n",
    "\n",
    "# feature_extractor_model = \"https://tfhub.dev/google/tf2-preview/mobilenet_v2/feature_vector/4\"\n",
    "\n",
    "# pretrained_model_without_top_layer = hub.KerasLayer(\n",
    "#     feature_extractor_model, input_shape=(48,48, 1), trainable=False)"
   ]
  },
  {
   "cell_type": "code",
   "execution_count": 27,
   "metadata": {
    "execution": {
     "iopub.execute_input": "2021-11-20T14:23:39.403548Z",
     "iopub.status.busy": "2021-11-20T14:23:39.402172Z",
     "iopub.status.idle": "2021-11-20T14:23:39.409928Z",
     "shell.execute_reply": "2021-11-20T14:23:39.408791Z",
     "shell.execute_reply.started": "2021-11-20T14:23:39.403501Z"
    }
   },
   "outputs": [],
   "source": [
    "# num_of_expressions = 7\n",
    "\n",
    "# model = tf.keras.Sequential([\n",
    "#   pretrained_model_without_top_layer,\n",
    "#   tf.keras.layers.Dense(7)\n",
    "# ])\n",
    "\n",
    "# model.summary()"
   ]
  },
  {
   "cell_type": "code",
   "execution_count": null,
   "metadata": {},
   "outputs": [],
   "source": []
  }
 ],
 "metadata": {
  "kernelspec": {
   "display_name": "Python 3",
   "language": "python",
   "name": "python3"
  },
  "language_info": {
   "codemirror_mode": {
    "name": "ipython",
    "version": 3
   },
   "file_extension": ".py",
   "mimetype": "text/x-python",
   "name": "python",
   "nbconvert_exporter": "python",
   "pygments_lexer": "ipython3",
   "version": "3.8.8"
  }
 },
 "nbformat": 4,
 "nbformat_minor": 4
}
